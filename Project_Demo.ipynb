{
 "cells": [
  {
   "cell_type": "markdown",
   "metadata": {},
   "source": [
    "# Lending Tree Data\n",
    "\n",
    "This is a quick demo of the Lending Tree P2P loan data.  There are many possibilities to explore with this data set, but there is one I'm particularly interested in.\n",
    "\n",
    "1) Using machine learning, how well can we predict whether loans will default or not?\n",
    "\n",
    "2) Given an algorithm's accuracy, what is an optimal investing strategy as a function of risk?\n",
    "\n",
    "3) How do the above results compare to human performance on the site?  How do they compare against the automated investing on certain sites?\n",
    "\n",
    "4) Lending Tree and other P2P lending sites offer most of the same information, but there are some differences! For example, Prosper  gives access to credit bureau underwriting data through their API, which is a huge chunk of information).\n",
    "\n",
    "I plan to compare:\n",
    "- Lending Tree\n",
    "- Prosper\n",
    "- Funding Circle (if their public API is released by June)\n",
    "\n",
    "\n",
    "This data was downloaded from https://www.lendingclub.com/info/download-data.action\n",
    "For future work, current data will be fetched using their API to augment this data, as described here:\n",
    "https://www.lendingclub.com/developers/lc-api.action\n",
    "\n",
    "Last updated 2016.04.08 by Stinnett"
   ]
  },
  {
   "cell_type": "code",
   "execution_count": 1,
   "metadata": {
    "collapsed": true
   },
   "outputs": [],
   "source": [
    "import pandas as pd\n",
    "import numpy as np\n",
    "import matplotlib.pyplot as plt\n",
    "\n",
    "# Display plots inline, use a nicer style.\n",
    "%matplotlib inline\n",
    "plt.style.use('ggplot')"
   ]
  },
  {
   "cell_type": "code",
   "execution_count": 2,
   "metadata": {
    "collapsed": false
   },
   "outputs": [],
   "source": [
    "# Import all data at once. Not necessarily the best practice, but this is only ~700MB. Approximately a 60s runtime.\n",
    "file_prefix='./Data_Project/LendingClub/LoanStats3'\n",
    "data_a=pd.read_csv(file_prefix+'a.csv',delimiter=',',low_memory=False) # 2007-2011\n",
    "data_b=pd.read_csv(file_prefix+'b.csv',delimiter=',',low_memory=False) # 2012-2013\n",
    "data_c=pd.read_csv(file_prefix+'c.csv',delimiter=',',low_memory=False) # 2013-2014\n",
    "data_d=pd.read_csv(file_prefix+'d.csv',delimiter=',',low_memory=False) # 2015\n",
    "\n",
    "# For the exploratory stats in this notebook, \n",
    "data=pd.concat([data_a,data_b,data_c,data_d])\n",
    "\n",
    "# Go ahead and remove the invididual sets from memory. \n",
    "%reset_selective -f data_a \n",
    "%reset_selective -f data_b\n",
    "%reset_selective -f data_c\n",
    "%reset_selective -f data_d"
   ]
  },
  {
   "cell_type": "code",
   "execution_count": 3,
   "metadata": {
    "collapsed": false
   },
   "outputs": [],
   "source": [
    "# There are actually three sheets in this file, but only one we care about currently.\n",
    "data_description=pd.ExcelFile('./Data_Project/LendingClub/LCDataDictionary.xlsx')\n",
    "data_description=data_description.parse('LoanStats')\n"
   ]
  },
  {
   "cell_type": "markdown",
   "metadata": {},
   "source": [
    "Process the data slightly to make it easier to use."
   ]
  },
  {
   "cell_type": "code",
   "execution_count": 4,
   "metadata": {
    "collapsed": false
   },
   "outputs": [
    {
     "name": "stdout",
     "output_type": "stream",
     "text": [
      "Data Processed\n"
     ]
    }
   ],
   "source": [
    "# Process the data some to make analysis simpler throughout.\n",
    "\n",
    "# Convert the int_rate from a string to a float.\n",
    "\n",
    "def convert_percentage(interest):\n",
    "    '''\n",
    "    Convert the int_rate to a float.\n",
    "    Input:\n",
    "        interest: a string, ending with '%'\n",
    "    Output:\n",
    "        out: a float, converted to a decimal or nan if input is nan\n",
    "        \n",
    "    Example: interest='10.6%' will yield 0.106   \n",
    "             interest=nan     will yield nan\n",
    "    '''\n",
    "    try:\n",
    "        out=interest[0:-1] \n",
    "        return float(out)/100.\n",
    "    except:\n",
    "        return np.nan\n",
    "    \n",
    "data['int_rate']=data['int_rate'].apply(convert_percentage)\n",
    "\n",
    "# Do the same thing for 'revol_util'\n",
    "data['revol_util']=data['revol_util'].apply(convert_percentage)\n",
    "\n",
    "# Change the term from a string (e.g. '36 months') to an integer (number of months)\n",
    "def fix_term(term):\n",
    "    '''\n",
    "    Convert the term to an int of months instead of a string.\n",
    "    Input: \n",
    "        term: string, e.g. '36 months'\n",
    "    Output:\n",
    "        an integer of the number of months\n",
    "    '''\n",
    "    try:\n",
    "        out=term.split()[0]\n",
    "        return int(out)\n",
    "    except:\n",
    "        return np.nan\n",
    "data['term']=data['term'].apply(fix_term)\n",
    "\n",
    "# toss out rows with nan int_rates\n",
    "data=data[np.isfinite(data['int_rate'])]\n",
    "\n",
    "# Convert home_ownership to 0 or 1\n",
    "def fix_home(homeownership):\n",
    "    if homeownership=='RENT':\n",
    "        return -1\n",
    "    elif homeownership=='MORTAGE':\n",
    "        return 0\n",
    "    else:\n",
    "        return 1\n",
    "        \n",
    "data['home_ownership']=data['home_ownership'].apply(fix_home)\n",
    "\n",
    "# Add a grade column where the grades are numbers.  This will be used for the random forest classifier later.\n",
    "def grade_number(grade):\n",
    "    if grade=='A':\n",
    "        return 0\n",
    "    elif grade=='B':\n",
    "        return 1\n",
    "    elif grade=='C':\n",
    "        return 2\n",
    "    elif grade=='D':\n",
    "        return 3\n",
    "    elif grade=='E':\n",
    "        return 4\n",
    "    elif grade=='F':\n",
    "        return 5\n",
    "    elif grade=='G':\n",
    "        return 6\n",
    "    else:\n",
    "        return np.nan\n",
    "    \n",
    "data['grade_n']    =data['grade'].apply(grade_number)    \n",
    "print('Data Processed')"
   ]
  },
  {
   "cell_type": "markdown",
   "metadata": {},
   "source": [
    "Let's look at an example row (out of the ~900k rows), ignoring any blank columns for now (many columns are mostly unpopulated)."
   ]
  },
  {
   "cell_type": "code",
   "execution_count": 5,
   "metadata": {
    "collapsed": false,
    "scrolled": true
   },
   "outputs": [
    {
     "data": {
      "text/html": [
       "<div>\n",
       "<table border=\"1\" class=\"dataframe\">\n",
       "  <thead>\n",
       "    <tr style=\"text-align: right;\">\n",
       "      <th></th>\n",
       "      <th>id</th>\n",
       "      <th>member_id</th>\n",
       "      <th>loan_amnt</th>\n",
       "      <th>funded_amnt</th>\n",
       "      <th>funded_amnt_inv</th>\n",
       "      <th>term</th>\n",
       "      <th>int_rate</th>\n",
       "      <th>installment</th>\n",
       "      <th>grade</th>\n",
       "      <th>sub_grade</th>\n",
       "      <th>...</th>\n",
       "      <th>last_credit_pull_d</th>\n",
       "      <th>collections_12_mths_ex_med</th>\n",
       "      <th>policy_code</th>\n",
       "      <th>application_type</th>\n",
       "      <th>acc_now_delinq</th>\n",
       "      <th>chargeoff_within_12_mths</th>\n",
       "      <th>delinq_amnt</th>\n",
       "      <th>pub_rec_bankruptcies</th>\n",
       "      <th>tax_liens</th>\n",
       "      <th>grade_n</th>\n",
       "    </tr>\n",
       "  </thead>\n",
       "  <tbody>\n",
       "    <tr>\n",
       "      <th>0</th>\n",
       "      <td>1077501</td>\n",
       "      <td>1296599</td>\n",
       "      <td>5000</td>\n",
       "      <td>5000</td>\n",
       "      <td>4975</td>\n",
       "      <td>36</td>\n",
       "      <td>0.1065</td>\n",
       "      <td>162.87</td>\n",
       "      <td>B</td>\n",
       "      <td>B2</td>\n",
       "      <td>...</td>\n",
       "      <td>Mar-2016</td>\n",
       "      <td>0</td>\n",
       "      <td>1</td>\n",
       "      <td>INDIVIDUAL</td>\n",
       "      <td>0</td>\n",
       "      <td>0</td>\n",
       "      <td>0</td>\n",
       "      <td>0</td>\n",
       "      <td>0</td>\n",
       "      <td>1</td>\n",
       "    </tr>\n",
       "    <tr>\n",
       "      <th>1</th>\n",
       "      <td>1077430</td>\n",
       "      <td>1314167</td>\n",
       "      <td>2500</td>\n",
       "      <td>2500</td>\n",
       "      <td>2500</td>\n",
       "      <td>60</td>\n",
       "      <td>0.1527</td>\n",
       "      <td>59.83</td>\n",
       "      <td>C</td>\n",
       "      <td>C4</td>\n",
       "      <td>...</td>\n",
       "      <td>Sep-2013</td>\n",
       "      <td>0</td>\n",
       "      <td>1</td>\n",
       "      <td>INDIVIDUAL</td>\n",
       "      <td>0</td>\n",
       "      <td>0</td>\n",
       "      <td>0</td>\n",
       "      <td>0</td>\n",
       "      <td>0</td>\n",
       "      <td>2</td>\n",
       "    </tr>\n",
       "    <tr>\n",
       "      <th>2</th>\n",
       "      <td>1077175</td>\n",
       "      <td>1313524</td>\n",
       "      <td>2400</td>\n",
       "      <td>2400</td>\n",
       "      <td>2400</td>\n",
       "      <td>36</td>\n",
       "      <td>0.1596</td>\n",
       "      <td>84.33</td>\n",
       "      <td>C</td>\n",
       "      <td>C5</td>\n",
       "      <td>...</td>\n",
       "      <td>Mar-2016</td>\n",
       "      <td>0</td>\n",
       "      <td>1</td>\n",
       "      <td>INDIVIDUAL</td>\n",
       "      <td>0</td>\n",
       "      <td>0</td>\n",
       "      <td>0</td>\n",
       "      <td>0</td>\n",
       "      <td>0</td>\n",
       "      <td>2</td>\n",
       "    </tr>\n",
       "  </tbody>\n",
       "</table>\n",
       "<p>3 rows × 53 columns</p>\n",
       "</div>"
      ],
      "text/plain": [
       "        id  member_id  loan_amnt  funded_amnt  funded_amnt_inv  term  \\\n",
       "0  1077501    1296599       5000         5000             4975    36   \n",
       "1  1077430    1314167       2500         2500             2500    60   \n",
       "2  1077175    1313524       2400         2400             2400    36   \n",
       "\n",
       "   int_rate  installment grade sub_grade   ...   last_credit_pull_d  \\\n",
       "0    0.1065       162.87     B        B2   ...             Mar-2016   \n",
       "1    0.1527        59.83     C        C4   ...             Sep-2013   \n",
       "2    0.1596        84.33     C        C5   ...             Mar-2016   \n",
       "\n",
       "   collections_12_mths_ex_med  policy_code application_type acc_now_delinq  \\\n",
       "0                           0            1       INDIVIDUAL              0   \n",
       "1                           0            1       INDIVIDUAL              0   \n",
       "2                           0            1       INDIVIDUAL              0   \n",
       "\n",
       "  chargeoff_within_12_mths delinq_amnt pub_rec_bankruptcies tax_liens grade_n  \n",
       "0                        0           0                    0         0       1  \n",
       "1                        0           0                    0         0       2  \n",
       "2                        0           0                    0         0       2  \n",
       "\n",
       "[3 rows x 53 columns]"
      ]
     },
     "execution_count": 5,
     "metadata": {},
     "output_type": "execute_result"
    }
   ],
   "source": [
    "data.head(3).dropna(axis=1)"
   ]
  },
  {
   "cell_type": "markdown",
   "metadata": {
    "collapsed": true
   },
   "source": [
    "First, just go get a feel for the grading, let's look the interest rate vs grade."
   ]
  },
  {
   "cell_type": "code",
   "execution_count": 6,
   "metadata": {
    "collapsed": false
   },
   "outputs": [
    {
     "data": {
      "text/plain": [
       "<matplotlib.text.Text at 0x2afbac04ce90>"
      ]
     },
     "execution_count": 6,
     "metadata": {},
     "output_type": "execute_result"
    },
    {
     "data": {
      "image/png": "[encoded data removed]",
      "text/plain": [
       "<matplotlib.figure.Figure at 0x2afbabfde590>"
      ]
     },
     "metadata": {},
     "output_type": "display_data"
    }
   ],
   "source": [
    "# Let's just deal with a piece of the whole data frame\n",
    "tmp=data[['grade','sub_grade','int_rate']].dropna(how='all',axis=0)\n",
    "\n",
    "# Plot the interest rates, grouped by grade\n",
    "groups = tmp.groupby('grade')['int_rate']\n",
    "fig, ax = plt.subplots()\n",
    "\n",
    "for k, v in groups:\n",
    "    v.hist(label=k, alpha=.6, ax=ax,figsize=(14,6),bins=[0.005*i for i in range(60)])\n",
    "\n",
    "ax.legend(title='Grade')\n",
    "ax.set_xlabel('Interest rate')\n",
    "ax.set_ylabel('Number of loans')\n",
    "ax.set_title('Interest rate vs Grade, All Years')"
   ]
  },
  {
   "cell_type": "markdown",
   "metadata": {},
   "source": [
    "So it seems that each grade has about a 5% window for its interest rate.  Within a grade, what determines the interest rate? "
   ]
  },
  {
   "cell_type": "code",
   "execution_count": 7,
   "metadata": {
    "collapsed": false,
    "scrolled": true
   },
   "outputs": [
    {
     "data": {
      "image/png": "[encoded data removed]",
      "text/plain": [
       "<matplotlib.figure.Figure at 0x2afbb177f150>"
      ]
     },
     "metadata": {},
     "output_type": "display_data"
    }
   ],
   "source": [
    "# First idea: loan term.\n",
    "tmp=data[['grade','loan_amnt','term','int_rate']]\n",
    "grades=data['grade'].unique()\n",
    "\n",
    "# Initialize plots, adjust geometry.\n",
    "fig,ax=plt.subplots(7,1)\n",
    "plt.subplots_adjust(left=None, bottom=-2.5, right=None, top=.2, wspace=None, hspace=.4)\n",
    "\n",
    "\n",
    "# Make a custom legend as a workaround for a labeling issue\n",
    "rect1 = plt.Line2D([0], [0], linestyle=\"none\", marker=\"o\", alpha=.6, markersize=10, markerfacecolor=\"red\")\n",
    "rect2 = plt.Line2D([0], [0], linestyle=\"none\", marker=\"o\", alpha=.6, markersize=10, markerfacecolor=\"blue\")\n",
    "\n",
    "# Iteratively plot.\n",
    "current_plot=-1\n",
    "for grade in np.sort(grades):\n",
    "    current_plot=current_plot+1\n",
    "    tmp=data[data['grade']==grade]\n",
    "    \n",
    "    # Plot the interest rates, grouped by term length\n",
    "    groups = tmp.groupby('term')['int_rate']\n",
    "    cur_set=1\n",
    "    for k, v in groups:\n",
    "        ax[current_plot]=v.hist(alpha=.6,\n",
    "                                ax=ax[current_plot],\n",
    "                                figsize=(14,6),\n",
    "                                bins=[0.005*i for i in range(80)]\n",
    "                               )\n",
    "        ax[current_plot].set_title('Grade: '+grade)\n",
    "        #ax[current_plot].set_ylim((0,45000))\n",
    "        ax[current_plot].set_ylabel('Number of loans')\n",
    "        cur_set=cur_set+1\n",
    "        #ax[current_plot].legend(title='Term')      \n",
    "        ax[current_plot].legend((rect1,rect2), (\"36 month\", \"60 month\"), numpoints=1, loc=\"best\")\n",
    "\n",
    "ax[current_plot].set_xlabel('Interest rate')\n",
    "plt.savefig('InterestGradeTerm.jpg', format='jpg')"
   ]
  },
  {
   "cell_type": "markdown",
   "metadata": {},
   "source": [
    "### Interestingly, while term length does not appear to be a predictor of interest rates, worse grades (higher letter) are clearly significantly more likely to take out a 60 month loan than the better grades. It's not the correlation we were looking for though.\n",
    "Note that the figures above do NOT have the same y-scale: Grades E F and G are much less well represented here.\n",
    "\n",
    "How about we look at amount?  Do larger loans have greater interest? Instead of plotting, let's look at Pearson's correlation relative to int_rate for several variables at once.\n",
    "\n",
    "Note: home ownership was mapped earlier by RENT= -1, MORTGAGE=0, OWN=1.  A much better map for future analysis would be to declare rent, mortgage, ownership, etc boolean variables.  The current map is enough to notice the slight relation below.\n",
    "\n"
   ]
  },
  {
   "cell_type": "code",
   "execution_count": 8,
   "metadata": {
    "collapsed": false
   },
   "outputs": [
    {
     "data": {
      "text/html": [
       "<div>\n",
       "<table border=\"1\" class=\"dataframe\">\n",
       "  <thead>\n",
       "    <tr style=\"text-align: right;\">\n",
       "      <th></th>\n",
       "      <th>int_rate</th>\n",
       "      <th>loan_amnt</th>\n",
       "      <th>revol_util</th>\n",
       "      <th>home_ownership</th>\n",
       "      <th>total_acc</th>\n",
       "    </tr>\n",
       "  </thead>\n",
       "  <tbody>\n",
       "    <tr>\n",
       "      <th>int_rate</th>\n",
       "      <td>1</td>\n",
       "      <td>0.145002</td>\n",
       "      <td>0.269137</td>\n",
       "      <td>-0.06153</td>\n",
       "      <td>-0.038607</td>\n",
       "    </tr>\n",
       "  </tbody>\n",
       "</table>\n",
       "</div>"
      ],
      "text/plain": [
       "          int_rate  loan_amnt  revol_util  home_ownership  total_acc\n",
       "int_rate         1   0.145002    0.269137        -0.06153  -0.038607"
      ]
     },
     "execution_count": 8,
     "metadata": {},
     "output_type": "execute_result"
    }
   ],
   "source": [
    "data[['int_rate','loan_amnt','revol_util','home_ownership','total_acc']].corr().iloc[0:1,:]\n"
   ]
  },
  {
   "cell_type": "markdown",
   "metadata": {},
   "source": [
    "The above results aren't really surprising.  \n",
    "\n",
    "- People with a larger revolving line utilization rate (% of their credit in use) tend to get a higher interest rate\n",
    "- People that rent tend to get slightly worse interest rates\n",
    "- Larger loans tend to have a larger interest rate.\n",
    "\n",
    "And so on.  While none of these correlations are particularly large, they may be larger within certain groups (e.g. maybe Grade C, slightly higher interest folks rely more on credit card usage, etc). However, this won't really be captured by Pearson's correlation, since the interest rates don't vary very much within a grade. We can look anyway to see why this isn't a very useful statistic within a grade:"
   ]
  },
  {
   "cell_type": "code",
   "execution_count": 9,
   "metadata": {
    "collapsed": false
   },
   "outputs": [
    {
     "name": "stdout",
     "output_type": "stream",
     "text": [
      "Grade= A\n",
      "          int_rate  loan_amnt  revol_util  home_ownership  total_acc\n",
      "int_rate         1   0.025261    0.207913       -0.056829  -0.047271\n",
      "Grade= B\n",
      "          int_rate  loan_amnt  revol_util  home_ownership  total_acc\n",
      "int_rate         1   -0.04415    0.118233       -0.038203  -0.045073\n",
      "Grade= C\n",
      "          int_rate  loan_amnt  revol_util  home_ownership  total_acc\n",
      "int_rate         1   0.039916    0.091638         0.01579   0.006493\n",
      "Grade= D\n",
      "          int_rate  loan_amnt  revol_util  home_ownership  total_acc\n",
      "int_rate         1   0.037735    0.088359       -0.000694   0.005154\n",
      "Grade= E\n",
      "          int_rate  loan_amnt  revol_util  home_ownership  total_acc\n",
      "int_rate         1   0.058342    0.077614        0.007349   0.020316\n",
      "Grade= F\n",
      "          int_rate  loan_amnt  revol_util  home_ownership  total_acc\n",
      "int_rate         1   0.026171   -0.042022         0.00086   0.011117\n",
      "Grade= G\n",
      "          int_rate  loan_amnt  revol_util  home_ownership  total_acc\n",
      "int_rate         1   0.098794   -0.175701       -0.024217  -0.032522\n"
     ]
    }
   ],
   "source": [
    "for grade in np.sort(grades):\n",
    "    result=data[data['grade']==grade][['int_rate','loan_amnt','revol_util','home_ownership','total_acc']].corr().iloc[0:1,:]\n",
    "    print('Grade= '+str(grade))\n",
    "    print(result)"
   ]
  },
  {
   "cell_type": "markdown",
   "metadata": {},
   "source": [
    "## Finally, let's look at the actual status of the loans.  \n",
    "There are a few values for 'loan_status':\n",
    "1. 'Fully Paid': \n",
    "2. 'Charged Off'\n",
    "3. 'Current'\n",
    "4. 'In Grace Period\n",
    "5. 'Late (16-30 days)'\n",
    "6. 'Late (31-120 days)'\n",
    "7. 'Default'\n",
    "8. 'Does not meet the credit policy. Status:Fully Paid'\n",
    "9. 'Does not meet the credit policy. Status:Charged Off'\n",
    "\n",
    "Let's look at the defaulted and charged off loans."
   ]
  },
  {
   "cell_type": "code",
   "execution_count": 10,
   "metadata": {
    "collapsed": false
   },
   "outputs": [
    {
     "data": {
      "text/plain": [
       "Current                                                0.646175\n",
       "Fully Paid                                             0.268607\n",
       "Charged Off                                            0.060401\n",
       "Late (31-120 days)                                     0.012778\n",
       "In Grace Period                                        0.006024\n",
       "Late (16-30 days)                                      0.002589\n",
       "Does not meet the credit policy. Status:Fully Paid     0.002240\n",
       "Does not meet the credit policy. Status:Charged Off    0.000858\n",
       "Default                                                0.000328\n",
       "Name: loan_status, dtype: float64"
      ]
     },
     "execution_count": 10,
     "metadata": {},
     "output_type": "execute_result"
    }
   ],
   "source": [
    "data['loan_status'].value_counts(normalize=True)"
   ]
  },
  {
   "cell_type": "code",
   "execution_count": 11,
   "metadata": {
    "collapsed": false
   },
   "outputs": [
    {
     "data": {
      "text/plain": [
       "Charged Off                                            53599\n",
       "Does not meet the credit policy. Status:Charged Off      761\n",
       "Default                                                  291\n",
       "Name: loan_status, dtype: int64"
      ]
     },
     "execution_count": 11,
     "metadata": {},
     "output_type": "execute_result"
    }
   ],
   "source": [
    "def filter_badloans(loan_status):\n",
    "    '''\n",
    "    Filter to keep only the bad loans (charged off or defaulted).\n",
    "    '''\n",
    "    if loan_status=='Default' or loan_status=='Charged Off' or loan_status=='Does not meet the credit policy. Status:Charged Off':\n",
    "        return True\n",
    "    else:\n",
    "        return False\n",
    "def filter_goodloans(loan_status):\n",
    "    '''\n",
    "    Filter to keep only the bad loans (charged off or defaulted).\n",
    "    '''\n",
    "    if loan_status=='Default' or loan_status=='Charged Off' or loan_status=='Does not meet the credit policy. Status:Charged Off':\n",
    "        return False\n",
    "    else:\n",
    "        return True\n",
    "    \n",
    "    \n",
    "tmp=data[data['loan_status'].apply(filter_badloans)]\n",
    "\n",
    "# See what we are working with now\n",
    "tmp['loan_status'].value_counts()"
   ]
  },
  {
   "cell_type": "code",
   "execution_count": 12,
   "metadata": {
    "collapsed": false
   },
   "outputs": [
    {
     "data": {
      "text/plain": [
       "0.010247957427401155"
      ]
     },
     "execution_count": 12,
     "metadata": {},
     "output_type": "execute_result"
    }
   ],
   "source": [
    "# Is there a difference in average loan amounts between good and bad loans? (No)\n",
    "tmp_bad =data[data['loan_status'].apply(filter_badloans)]\n",
    "tmp_good=data[data['loan_status'].apply(filter_goodloans)]\n",
    "(tmp_good['loan_amnt'].mean()-tmp_bad['loan_amnt'].mean())/tmp_good['loan_amnt'].mean()"
   ]
  },
  {
   "cell_type": "code",
   "execution_count": 13,
   "metadata": {
    "collapsed": false
   },
   "outputs": [
    {
     "data": {
      "text/plain": [
       "0.04364957565912497"
      ]
     },
     "execution_count": 13,
     "metadata": {},
     "output_type": "execute_result"
    }
   ],
   "source": [
    "# Q) Do people whose loans go bad have a higher credit utilization?\n",
    "# A) Slightly; their average utilization is about 4.3% higher total.\n",
    "(tmp_bad['revol_util'].mean()-tmp_good['revol_util'].mean())"
   ]
  },
  {
   "cell_type": "code",
   "execution_count": 14,
   "metadata": {
    "collapsed": false
   },
   "outputs": [
    {
     "data": {
      "text/plain": [
       "-0.9919062489146704"
      ]
     },
     "execution_count": 14,
     "metadata": {},
     "output_type": "execute_result"
    }
   ],
   "source": [
    "# Q) Do people whose loans go bad have more or less accounts total?\n",
    "# A) They have about one less account on average.\n",
    "(tmp_bad['total_acc'].mean()-tmp_good['total_acc'].mean())"
   ]
  },
  {
   "cell_type": "code",
   "execution_count": 15,
   "metadata": {
    "collapsed": false,
    "scrolled": true
   },
   "outputs": [
    {
     "data": {
      "text/html": [
       "<div>\n",
       "<table border=\"1\" class=\"dataframe\">\n",
       "  <thead>\n",
       "    <tr style=\"text-align: right;\">\n",
       "      <th></th>\n",
       "      <th>member_id</th>\n",
       "      <th>loan_amnt</th>\n",
       "      <th>funded_amnt</th>\n",
       "      <th>funded_amnt_inv</th>\n",
       "      <th>term</th>\n",
       "      <th>int_rate</th>\n",
       "      <th>installment</th>\n",
       "      <th>home_ownership</th>\n",
       "      <th>annual_inc</th>\n",
       "      <th>dti</th>\n",
       "      <th>...</th>\n",
       "      <th>num_tl_op_past_12m</th>\n",
       "      <th>pct_tl_nvr_dlq</th>\n",
       "      <th>percent_bc_gt_75</th>\n",
       "      <th>pub_rec_bankruptcies</th>\n",
       "      <th>tax_liens</th>\n",
       "      <th>tot_hi_cred_lim</th>\n",
       "      <th>total_bal_ex_mort</th>\n",
       "      <th>total_bc_limit</th>\n",
       "      <th>total_il_high_credit_limit</th>\n",
       "      <th>grade_n</th>\n",
       "    </tr>\n",
       "  </thead>\n",
       "  <tbody>\n",
       "    <tr>\n",
       "      <th>count</th>\n",
       "      <td>54651.000000</td>\n",
       "      <td>54651.000000</td>\n",
       "      <td>54651.000000</td>\n",
       "      <td>54651.000000</td>\n",
       "      <td>54651.000000</td>\n",
       "      <td>54651.000000</td>\n",
       "      <td>54651.000000</td>\n",
       "      <td>54651.000000</td>\n",
       "      <td>54651.000000</td>\n",
       "      <td>54651.000000</td>\n",
       "      <td>...</td>\n",
       "      <td>43792.000000</td>\n",
       "      <td>43783.000000</td>\n",
       "      <td>46554.000000</td>\n",
       "      <td>54317.000000</td>\n",
       "      <td>54640.000000</td>\n",
       "      <td>43792.000000</td>\n",
       "      <td>47102.000000</td>\n",
       "      <td>47102.000000</td>\n",
       "      <td>43792.000000</td>\n",
       "      <td>54651.000000</td>\n",
       "    </tr>\n",
       "    <tr>\n",
       "      <th>mean</th>\n",
       "      <td>15157081.635231</td>\n",
       "      <td>14613.291614</td>\n",
       "      <td>14571.247553</td>\n",
       "      <td>14422.767926</td>\n",
       "      <td>44.663995</td>\n",
       "      <td>0.160029</td>\n",
       "      <td>441.828689</td>\n",
       "      <td>0.059121</td>\n",
       "      <td>65602.696612</td>\n",
       "      <td>18.605005</td>\n",
       "      <td>...</td>\n",
       "      <td>2.286057</td>\n",
       "      <td>94.985908</td>\n",
       "      <td>57.105538</td>\n",
       "      <td>0.106689</td>\n",
       "      <td>0.029996</td>\n",
       "      <td>138728.701315</td>\n",
       "      <td>44198.589444</td>\n",
       "      <td>16972.456605</td>\n",
       "      <td>36195.366049</td>\n",
       "      <td>2.483742</td>\n",
       "    </tr>\n",
       "    <tr>\n",
       "      <th>std</th>\n",
       "      <td>15394686.331552</td>\n",
       "      <td>8401.034903</td>\n",
       "      <td>8379.353459</td>\n",
       "      <td>8432.432778</td>\n",
       "      <td>11.527077</td>\n",
       "      <td>0.042901</td>\n",
       "      <td>246.972799</td>\n",
       "      <td>0.998260</td>\n",
       "      <td>55386.871968</td>\n",
       "      <td>8.039253</td>\n",
       "      <td>...</td>\n",
       "      <td>1.743120</td>\n",
       "      <td>7.750484</td>\n",
       "      <td>33.894836</td>\n",
       "      <td>0.331218</td>\n",
       "      <td>0.260782</td>\n",
       "      <td>140873.425433</td>\n",
       "      <td>40069.689717</td>\n",
       "      <td>16535.108478</td>\n",
       "      <td>36816.016249</td>\n",
       "      <td>1.376899</td>\n",
       "    </tr>\n",
       "    <tr>\n",
       "      <th>min</th>\n",
       "      <td>70694.000000</td>\n",
       "      <td>500.000000</td>\n",
       "      <td>500.000000</td>\n",
       "      <td>0.000000</td>\n",
       "      <td>36.000000</td>\n",
       "      <td>0.053200</td>\n",
       "      <td>15.910000</td>\n",
       "      <td>-1.000000</td>\n",
       "      <td>2000.000000</td>\n",
       "      <td>0.000000</td>\n",
       "      <td>...</td>\n",
       "      <td>0.000000</td>\n",
       "      <td>15.000000</td>\n",
       "      <td>0.000000</td>\n",
       "      <td>0.000000</td>\n",
       "      <td>0.000000</td>\n",
       "      <td>0.000000</td>\n",
       "      <td>0.000000</td>\n",
       "      <td>0.000000</td>\n",
       "      <td>0.000000</td>\n",
       "      <td>0.000000</td>\n",
       "    </tr>\n",
       "    <tr>\n",
       "      <th>25%</th>\n",
       "      <td>2167037.500000</td>\n",
       "      <td>8000.000000</td>\n",
       "      <td>8000.000000</td>\n",
       "      <td>8000.000000</td>\n",
       "      <td>36.000000</td>\n",
       "      <td>0.130500</td>\n",
       "      <td>266.180000</td>\n",
       "      <td>-1.000000</td>\n",
       "      <td>40266.640000</td>\n",
       "      <td>12.710000</td>\n",
       "      <td>...</td>\n",
       "      <td>1.000000</td>\n",
       "      <td>92.600000</td>\n",
       "      <td>33.300000</td>\n",
       "      <td>0.000000</td>\n",
       "      <td>0.000000</td>\n",
       "      <td>40833.500000</td>\n",
       "      <td>19829.000000</td>\n",
       "      <td>6300.000000</td>\n",
       "      <td>12006.750000</td>\n",
       "      <td>1.000000</td>\n",
       "    </tr>\n",
       "    <tr>\n",
       "      <th>50%</th>\n",
       "      <td>9341236.000000</td>\n",
       "      <td>12800.000000</td>\n",
       "      <td>12700.000000</td>\n",
       "      <td>12450.000000</td>\n",
       "      <td>36.000000</td>\n",
       "      <td>0.156100</td>\n",
       "      <td>390.830000</td>\n",
       "      <td>1.000000</td>\n",
       "      <td>56326.000000</td>\n",
       "      <td>18.510000</td>\n",
       "      <td>...</td>\n",
       "      <td>2.000000</td>\n",
       "      <td>100.000000</td>\n",
       "      <td>60.000000</td>\n",
       "      <td>0.000000</td>\n",
       "      <td>0.000000</td>\n",
       "      <td>83473.000000</td>\n",
       "      <td>34225.500000</td>\n",
       "      <td>12100.000000</td>\n",
       "      <td>27638.000000</td>\n",
       "      <td>2.000000</td>\n",
       "    </tr>\n",
       "    <tr>\n",
       "      <th>75%</th>\n",
       "      <td>22681881.500000</td>\n",
       "      <td>20000.000000</td>\n",
       "      <td>20000.000000</td>\n",
       "      <td>20000.000000</td>\n",
       "      <td>60.000000</td>\n",
       "      <td>0.188500</td>\n",
       "      <td>573.795000</td>\n",
       "      <td>1.000000</td>\n",
       "      <td>79521.500000</td>\n",
       "      <td>24.340000</td>\n",
       "      <td>...</td>\n",
       "      <td>3.000000</td>\n",
       "      <td>100.000000</td>\n",
       "      <td>87.500000</td>\n",
       "      <td>0.000000</td>\n",
       "      <td>0.000000</td>\n",
       "      <td>200933.500000</td>\n",
       "      <td>55643.750000</td>\n",
       "      <td>22100.000000</td>\n",
       "      <td>48987.000000</td>\n",
       "      <td>3.000000</td>\n",
       "    </tr>\n",
       "    <tr>\n",
       "      <th>max</th>\n",
       "      <td>70731192.000000</td>\n",
       "      <td>35000.000000</td>\n",
       "      <td>35000.000000</td>\n",
       "      <td>35000.000000</td>\n",
       "      <td>60.000000</td>\n",
       "      <td>0.289900</td>\n",
       "      <td>1424.570000</td>\n",
       "      <td>1.000000</td>\n",
       "      <td>8706582.000000</td>\n",
       "      <td>39.990000</td>\n",
       "      <td>...</td>\n",
       "      <td>25.000000</td>\n",
       "      <td>100.000000</td>\n",
       "      <td>100.000000</td>\n",
       "      <td>5.000000</td>\n",
       "      <td>9.000000</td>\n",
       "      <td>3867129.000000</td>\n",
       "      <td>1896461.000000</td>\n",
       "      <td>326300.000000</td>\n",
       "      <td>589699.000000</td>\n",
       "      <td>6.000000</td>\n",
       "    </tr>\n",
       "  </tbody>\n",
       "</table>\n",
       "<p>8 rows × 90 columns</p>\n",
       "</div>"
      ],
      "text/plain": [
       "             member_id     loan_amnt   funded_amnt  funded_amnt_inv  \\\n",
       "count     54651.000000  54651.000000  54651.000000     54651.000000   \n",
       "mean   15157081.635231  14613.291614  14571.247553     14422.767926   \n",
       "std    15394686.331552   8401.034903   8379.353459      8432.432778   \n",
       "min       70694.000000    500.000000    500.000000         0.000000   \n",
       "25%     2167037.500000   8000.000000   8000.000000      8000.000000   \n",
       "50%     9341236.000000  12800.000000  12700.000000     12450.000000   \n",
       "75%    22681881.500000  20000.000000  20000.000000     20000.000000   \n",
       "max    70731192.000000  35000.000000  35000.000000     35000.000000   \n",
       "\n",
       "               term      int_rate   installment  home_ownership  \\\n",
       "count  54651.000000  54651.000000  54651.000000    54651.000000   \n",
       "mean      44.663995      0.160029    441.828689        0.059121   \n",
       "std       11.527077      0.042901    246.972799        0.998260   \n",
       "min       36.000000      0.053200     15.910000       -1.000000   \n",
       "25%       36.000000      0.130500    266.180000       -1.000000   \n",
       "50%       36.000000      0.156100    390.830000        1.000000   \n",
       "75%       60.000000      0.188500    573.795000        1.000000   \n",
       "max       60.000000      0.289900   1424.570000        1.000000   \n",
       "\n",
       "           annual_inc           dti      ...       num_tl_op_past_12m  \\\n",
       "count    54651.000000  54651.000000      ...             43792.000000   \n",
       "mean     65602.696612     18.605005      ...                 2.286057   \n",
       "std      55386.871968      8.039253      ...                 1.743120   \n",
       "min       2000.000000      0.000000      ...                 0.000000   \n",
       "25%      40266.640000     12.710000      ...                 1.000000   \n",
       "50%      56326.000000     18.510000      ...                 2.000000   \n",
       "75%      79521.500000     24.340000      ...                 3.000000   \n",
       "max    8706582.000000     39.990000      ...                25.000000   \n",
       "\n",
       "       pct_tl_nvr_dlq  percent_bc_gt_75  pub_rec_bankruptcies     tax_liens  \\\n",
       "count    43783.000000      46554.000000          54317.000000  54640.000000   \n",
       "mean        94.985908         57.105538              0.106689      0.029996   \n",
       "std          7.750484         33.894836              0.331218      0.260782   \n",
       "min         15.000000          0.000000              0.000000      0.000000   \n",
       "25%         92.600000         33.300000              0.000000      0.000000   \n",
       "50%        100.000000         60.000000              0.000000      0.000000   \n",
       "75%        100.000000         87.500000              0.000000      0.000000   \n",
       "max        100.000000        100.000000              5.000000      9.000000   \n",
       "\n",
       "       tot_hi_cred_lim  total_bal_ex_mort  total_bc_limit  \\\n",
       "count     43792.000000       47102.000000    47102.000000   \n",
       "mean     138728.701315       44198.589444    16972.456605   \n",
       "std      140873.425433       40069.689717    16535.108478   \n",
       "min           0.000000           0.000000        0.000000   \n",
       "25%       40833.500000       19829.000000     6300.000000   \n",
       "50%       83473.000000       34225.500000    12100.000000   \n",
       "75%      200933.500000       55643.750000    22100.000000   \n",
       "max     3867129.000000     1896461.000000   326300.000000   \n",
       "\n",
       "       total_il_high_credit_limit       grade_n  \n",
       "count                43792.000000  54651.000000  \n",
       "mean                 36195.366049      2.483742  \n",
       "std                  36816.016249      1.376899  \n",
       "min                      0.000000      0.000000  \n",
       "25%                  12006.750000      1.000000  \n",
       "50%                  27638.000000      2.000000  \n",
       "75%                  48987.000000      3.000000  \n",
       "max                 589699.000000      6.000000  \n",
       "\n",
       "[8 rows x 90 columns]"
      ]
     },
     "execution_count": 15,
     "metadata": {},
     "output_type": "execute_result"
    }
   ],
   "source": [
    "tmp_bad.describe()"
   ]
  },
  {
   "cell_type": "markdown",
   "metadata": {},
   "source": [
    "# A very basic prediction scheme: random forest classification"
   ]
  },
  {
   "cell_type": "markdown",
   "metadata": {},
   "source": [
    "Prepare a training and test data set."
   ]
  },
  {
   "cell_type": "code",
   "execution_count": 16,
   "metadata": {
    "collapsed": false
   },
   "outputs": [],
   "source": [
    "cols=['grade_n','loan_amnt','int_rate','annual_inc','tot_hi_cred_lim','loan_status']\n",
    "#cols=['grade_n','loan_amnt','term','home_ownership','dti','int_rate','annual_inc','tot_hi_cred_lim','loan_status']\n",
    "scheme_data=data[cols]\n",
    "\n",
    "# Create a boolean bad_loan column\n",
    "pd.options.mode.chained_assignment = None  # default='warn'\n",
    "scheme_data['bad']=scheme_data['loan_status'].apply(filter_badloans)\n",
    "\n",
    "#drop na values\n",
    "scheme_data=scheme_data.dropna(axis=0) # removes about 70k of 880k entries\n",
    "\n",
    "# drop the other loan column out\n",
    "scheme_data=scheme_data.drop('loan_status',1)\n",
    "\n",
    "#separate into training and test data\n",
    "# pick n_test values to use as a test set.  use the rest as a training set.\n",
    "# Make a random list.\n",
    "\n",
    "x=np.arange(scheme_data.shape[0])\n",
    "x=np.random.choice(x,size=len(x),replace=False)\n",
    "\n",
    "n_test=50000\n",
    "test_data =scheme_data.iloc[x[0:n_test]][['grade_n','loan_amnt','int_rate','annual_inc','tot_hi_cred_lim']]\n",
    "test_label =scheme_data.iloc[x[0:n_test]][['bad']]['bad'].values\n",
    "train_data=scheme_data.iloc[x[n_test:]][['grade_n','loan_amnt','int_rate','annual_inc','tot_hi_cred_lim']]\n",
    "train_label=scheme_data.iloc[x[n_test:]][['bad']]['bad'].values"
   ]
  },
  {
   "cell_type": "code",
   "execution_count": 17,
   "metadata": {
    "collapsed": false
   },
   "outputs": [],
   "source": [
    "# Import the random forest package\n",
    "from sklearn.ensemble import RandomForestClassifier \n",
    "\n",
    "# Define an evaluation function.\n",
    "def evaluate_forest(output,test_label):\n",
    "    '''\n",
    "    Evaluate the performance of the random forest.  \n",
    "    Compares the predicted labels vs the actual labels in the test set.\n",
    "    \n",
    "    Output: three printed lines.\n",
    "    1. [accuracy at identifying bad (true) loans, accuracy at identifying false (good) loans]\n",
    "    2. # bad loans identified correctly / # of bad loans total\n",
    "    3. # good loans identified correctly / # of good loans total\n",
    "    \n",
    "    '''\n",
    "    false_correct=0\n",
    "    false_wrong=0\n",
    "    true_correct=0\n",
    "    true_wrong=0\n",
    "    for i in range(n_test):\n",
    "        if output[i]==False: #says it is a good loan\n",
    "            if test_label[i]==False: # correct\n",
    "                false_correct=false_correct+1\n",
    "            else:\n",
    "                false_wrong=false_wrong+1\n",
    "        else: \n",
    "            if test_label[i]==True:\n",
    "                true_correct=true_correct+1\n",
    "            else: \n",
    "                true_wrong=true_wrong+1\n",
    "\n",
    "    true_accuracy=true_correct/float(true_correct+true_wrong)\n",
    "    false_accuracy=false_correct/float(false_correct+false_wrong)\n",
    "    print([true_accuracy,false_accuracy])\n",
    "    \n",
    "    print('True: ' +str(true_correct)+'/'+str(true_correct+false_wrong))\n",
    "    print('False: '+str(false_correct)+'/'+str(false_correct+true_wrong))\n",
    "    return np.array([true_accuracy,false_accuracy])\n",
    "\n",
    "def randomforest(train_data,train_label,test_data,test_label,nestimators):\n",
    "    '''\n",
    "    Use a random forest classifier on the training data.  Only prints out accuracy results.\n",
    "    '''\n",
    "    # Create the forest.\n",
    "    forest = RandomForestClassifier(n_estimators = nestimators)\n",
    "\n",
    "    # Create the decision trees\n",
    "    forest = forest.fit(train_data.values,train_label)\n",
    "\n",
    "    # Run on test set\n",
    "    output = forest.predict(test_data)\n",
    "\n",
    "    # Evaluate\n",
    "    out=evaluate_forest(output,test_label)\n",
    "    return out"
   ]
  },
  {
   "cell_type": "code",
   "execution_count": 18,
   "metadata": {
    "collapsed": false
   },
   "outputs": [
    {
     "name": "stdout",
     "output_type": "stream",
     "text": [
      "[0.18867924528301888, 0.9493388976946691]\n",
      "True: 30/2555\n",
      "False: 47316/47445\n"
     ]
    },
    {
     "data": {
      "text/plain": [
       "array([ 0.18867925,  0.9493389 ])"
      ]
     },
     "execution_count": 18,
     "metadata": {},
     "output_type": "execute_result"
    }
   ],
   "source": [
    "# Run the random forest classifier for 75 estimators.  \n",
    "# The best results I've gotten so far with this is [.23, .95], with 75 estimators.\n",
    "\n",
    "randomforest(train_data,train_label,test_data,test_label,75)"
   ]
  },
  {
   "cell_type": "markdown",
   "metadata": {},
   "source": [
    "# PCA\n",
    "How well can the data be split?  This is only using some of the data set (the same columns were used for the random forest classifier). "
   ]
  },
  {
   "cell_type": "code",
   "execution_count": 19,
   "metadata": {
    "collapsed": false
   },
   "outputs": [],
   "source": [
    "from sklearn.decomposition import PCA\n",
    "from sklearn.discriminant_analysis import LinearDiscriminantAnalysis"
   ]
  },
  {
   "cell_type": "code",
   "execution_count": 20,
   "metadata": {
    "collapsed": false
   },
   "outputs": [
    {
     "name": "stdout",
     "output_type": "stream",
     "text": [
      "[ 0.90101743  0.09724696  0.0017356 ]\n"
     ]
    }
   ],
   "source": [
    "pca=PCA(n_components=3)\n",
    "pca.fit(train_data)\n",
    "print(pca.explained_variance_ratio_)"
   ]
  },
  {
   "cell_type": "code",
   "execution_count": 21,
   "metadata": {
    "collapsed": false
   },
   "outputs": [
    {
     "data": {
      "image/png": "[encoded data removed]",
      "text/plain": [
       "<matplotlib.figure.Figure at 0x2afbcd018990>"
      ]
     },
     "metadata": {},
     "output_type": "display_data"
    }
   ],
   "source": [
    "#X = train_data.values\n",
    "X = train_data\n",
    "y = train_label\n",
    "\n",
    "\n",
    "pca = PCA(n_components=3)\n",
    "\n",
    "\n",
    "X_r = pca.fit(X).transform(X)\n",
    "\n",
    "\n",
    "ax=plt.figure(figsize=(14,8))\n",
    "target_names=np.array(['Good','Bad'])\n",
    "for c, i, target_name in zip(\"rb\", [0, 1], target_names):\n",
    "    plt.scatter(X_r[y == i, 0], X_r[y == i, 1], c=c, label=target_name)\n",
    "    \n",
    "    \n",
    "plt.legend()\n",
    "plt.title('PCA of Lending Club Data')\n",
    "\n",
    "plt.show()"
   ]
  },
  {
   "cell_type": "markdown",
   "metadata": {},
   "source": [
    "It is not surprising that the random forest classifier performed poorly.  At least with this slice of the data, it isn't exactly separable.  With future work, I will run this on the full-dimensioned data set."
   ]
  }
 ],
 "metadata": {
  "kernelspec": {
   "display_name": "Python 2",
   "language": "python",
   "name": "python2"
  },
  "language_info": {
   "codemirror_mode": {
    "name": "ipython",
    "version": 2
   },
   "file_extension": ".py",
   "mimetype": "text/x-python",
   "name": "python",
   "nbconvert_exporter": "python",
   "pygments_lexer": "ipython2",
   "version": "2.7.11"
  }
 },
 "nbformat": 4,
 "nbformat_minor": 0
}
